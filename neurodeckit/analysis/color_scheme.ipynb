{
 "cells": [
  {
   "cell_type": "code",
   "execution_count": null,
   "metadata": {},
   "outputs": [],
   "source": [
    "import matplotlib.pyplot as plt\n",
    "\n",
    "# 打印所有可用的配色方案\n",
    "print(plt.colormaps())"
   ]
  },
  {
   "cell_type": "code",
   "execution_count": null,
   "metadata": {},
   "outputs": [],
   "source": [
    "import matplotlib.pyplot as plt\n",
    "import scipy.io\n",
    "import numpy as np\n",
    "\n",
    "# 获取MNE使用的配色方案\n",
    "cmap = plt.get_cmap('RdBu_r')  # 你可以选择其他配色方案，如 'plasma', 'inferno', 'magma'\n",
    "\n",
    "# 展示颜色映射\n",
    "fig, ax = plt.subplots(figsize=(10, 1))\n",
    "ax.imshow(np.arange(cmap.N).reshape(1, -1), cmap=cmap, aspect='auto', vmin=0, vmax=cmap.N - 1)\n",
    "ax.set_axis_off()\n",
    "plt.show()\n",
    "\n",
    "# 提取颜色数据\n",
    "colors = cmap(np.linspace(0, 1, cmap.N))\n",
    "\n",
    "# 保存为.mat文件\n",
    "scipy.io.savemat('colormap_data.mat', {'color_map': colors[:, :3]})\n"
   ]
  }
 ],
 "metadata": {
  "kernelspec": {
   "display_name": "Python 3",
   "language": "python",
   "name": "python3"
  },
  "language_info": {
   "codemirror_mode": {
    "name": "ipython",
    "version": 3
   },
   "file_extension": ".py",
   "mimetype": "text/x-python",
   "name": "python",
   "nbconvert_exporter": "python",
   "pygments_lexer": "ipython3",
   "version": "3.10.11"
  }
 },
 "nbformat": 4,
 "nbformat_minor": 2
}
