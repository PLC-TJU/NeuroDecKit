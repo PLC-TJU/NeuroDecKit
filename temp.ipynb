{
 "cells": [
  {
   "cell_type": "code",
   "execution_count": null,
   "metadata": {},
   "outputs": [],
   "source": [
    "import numpy as np\n",
    "from joblib import Memory\n",
    "from sklearn.model_selection import RepeatedStratifiedKFold, cross_val_score\n",
    "\n",
    "from pre_processing.preprocessing import Pre_Processing\n",
    "from transfer_learning.tl_classifier import TL_Classifier\n",
    "from transfer_learning import TLSplitter, encode_datasets\n",
    "from loaddata import Dataset_Left_Right_MI\n",
    "\n",
    "# 设置参数\n",
    "dataset_name = 'Pan2023'\n",
    "fs = 250\n",
    "freqband = [8,30]\n",
    "datapath = r'E:\\工作进展\\小论文2023会议\\数据处理python\\datasets'\n",
    "\n",
    "# 加载数据\n",
    "dataset = Dataset_Left_Right_MI(dataset_name,fs,fmin=freqband[0],fmax=freqband[1],tmin=0,tmax=4,path=datapath)\n",
    "sdata, slabel = [], []\n",
    "for i in range(1,4):    \n",
    "    data, label = dataset.get_data([i])\n",
    "    sdata.append(data)\n",
    "    slabel.append(label)\n",
    "    \n",
    "X, y_enc, domain =encode_datasets(sdata, slabel)\n",
    "print(X.shape, y_enc.shape, len(domain))\n",
    "print(domain)\n",
    "\n",
    "# 设置缓存目录\n",
    "cachedir = '../my_cache_directory'\n",
    "memory = Memory(cachedir, verbose=0)\n",
    "\n",
    "# 实例化模型\n",
    "preprocess = Pre_Processing(fs_new=160, fs_old=250, \n",
    "                       n_channels=np.arange(0, 28), \n",
    "                       start_time=0.5, end_time=3.5,\n",
    "                       lowcut=None, highcut=None, )\n",
    "Model = TL_Classifier(dpa_method='EA', \n",
    "                      fee_method='CSP', \n",
    "                      fes_method='MIC-K', \n",
    "                      clf_method='SVM',\n",
    "                      pre_est=preprocess.process,\n",
    "                      memory=memory,\n",
    "                      target_domain=domain[0],\n",
    "                      )\n",
    "\n",
    "# 交叉验证\n",
    "cv = RepeatedStratifiedKFold(n_splits=5, n_repeats=5, random_state=42)\n",
    "tl_cv = TLSplitter(target_domain=domain[0], cv=cv)\n",
    "\n"
   ]
  },
  {
   "cell_type": "code",
   "execution_count": null,
   "metadata": {},
   "outputs": [],
   "source": [
    "Model = TL_Classifier(dpa_method='RPA', \n",
    "                      fee_method='TS', \n",
    "                      fes_method='MIC-K', \n",
    "                      clf_method='LR',\n",
    "                      pre_est=preprocess.process,\n",
    "                      memory=memory,\n",
    "                      target_domain=domain[0],\n",
    "                      )\n",
    "a = 0"
   ]
  },
  {
   "cell_type": "code",
   "execution_count": null,
   "metadata": {},
   "outputs": [],
   "source": [
    "acc = []\n",
    "for train, test in tl_cv.split(X, y_enc):\n",
    "    X_train, y_train = X[train], y_enc[train]\n",
    "    X_test, y_test = X[test], y_enc[test]\n",
    "    Model.fit(X_train, y_train)\n",
    "    score = Model.score(X_test, y_test)\n",
    "    acc.append(score)\n",
    "    print(\"Score: %0.2f\" % score)\n",
    "print(\"Accuracy: %0.2f (+/- %0.2f)\" % (np.mean(acc), np.std(acc)))"
   ]
  },
  {
   "cell_type": "code",
   "execution_count": null,
   "metadata": {},
   "outputs": [],
   "source": [
    "scores = cross_val_score(Model, X, y_enc, cv=tl_cv, n_jobs=15)\n",
    "print(\"Accuracy: %0.2f (+/- %0.2f)\" % (scores.mean(), scores.std()))"
   ]
  },
  {
   "cell_type": "code",
   "execution_count": null,
   "metadata": {},
   "outputs": [],
   "source": [
    "from machine_learning.csp import FBCSP\n",
    "from utils import check_pipeline_compatibility as cpc\n",
    "from utils import ensure_pipeline\n",
    "\n",
    "est = FBCSP(fs=250)\n",
    "\n",
    "print(callable(est))\n",
    "print(cpc(est))\n",
    "print(ensure_pipeline(est))"
   ]
  },
  {
   "cell_type": "code",
   "execution_count": null,
   "metadata": {},
   "outputs": [],
   "source": [
    "import numpy as np\n",
    "\n",
    "#创建随机的3D数组\n",
    "X = np.random.rand(3,20,40,500)\n",
    "\n",
    "#打印数组的形状\n",
    "print(X.shape)\n",
    "\n",
    "XX1 = np.reshape(X, (-1, *X.shape[-2:])) \n",
    "XX2 = np.concatenate(X, axis=0)\n",
    "\n",
    "print(XX1.shape)\n",
    "print(XX2.shape)\n",
    "\n",
    "print(XX1 == XX2)"
   ]
  },
  {
   "cell_type": "code",
   "execution_count": 10,
   "metadata": {},
   "outputs": [
    {
     "name": "stdout",
     "output_type": "stream",
     "text": [
      "[[1 2 3]\n",
      " [4 5 6]]\n",
      "[[[ 1  2]\n",
      "  [ 3  4]\n",
      "  [ 5  6]]\n",
      "\n",
      " [[ 7  8]\n",
      "  [ 9 10]\n",
      "  [11 12]]]\n",
      "[[[ 22  28]\n",
      "  [ 49  64]]\n",
      "\n",
      " [[ 58  64]\n",
      "  [139 154]]]\n"
     ]
    }
   ],
   "source": [
    "A = np.array([[1,2,3],[4,5,6]])\n",
    "print(A)\n",
    "# 创建3D数组\n",
    "B = np.array([[[1,2],[3,4],[5,6]],[[7,8],[9,10],[11,12]]])\n",
    "print(B)\n",
    "\n",
    "C = A @ B\n",
    "print(C)"
   ]
  }
 ],
 "metadata": {
  "language_info": {
   "name": "python"
  }
 },
 "nbformat": 4,
 "nbformat_minor": 2
}
