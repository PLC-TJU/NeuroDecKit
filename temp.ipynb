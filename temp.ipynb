{
 "cells": [
  {
   "cell_type": "code",
   "execution_count": 1,
   "metadata": {},
   "outputs": [
    {
     "name": "stderr",
     "output_type": "stream",
     "text": [
      "Trial data de-meaned and concatenated with a buffer to create cont data\n",
      "Trial data de-meaned and concatenated with a buffer to create cont data\n",
      "Trial data de-meaned and concatenated with a buffer to create cont data\n",
      "Trial data de-meaned and concatenated with a buffer to create cont data\n",
      "Trial data de-meaned and concatenated with a buffer to create cont data\n",
      "Trial data de-meaned and concatenated with a buffer to create cont data\n"
     ]
    },
    {
     "name": "stdout",
     "output_type": "stream",
     "text": [
      "(720, 28, 1000) (720,) 3\n",
      "['S1', 'S2', 'S3']\n"
     ]
    }
   ],
   "source": [
    "import numpy as np\n",
    "from joblib import Memory\n",
    "from sklearn.model_selection import RepeatedStratifiedKFold, cross_val_score\n",
    "\n",
    "from pre_processing.preprocessing import Pre_Processing\n",
    "from transfer_learning.tl_classifier import TL_Classifier\n",
    "from transfer_learning import TLSplitter, encode_datasets\n",
    "from loaddata import Dataset_Left_Right_MI\n",
    "\n",
    "# 设置参数\n",
    "dataset_name = 'Pan2023'\n",
    "fs = 250\n",
    "freqband = [8,30]\n",
    "datapath = r'E:\\工作进展\\小论文2023会议\\数据处理python\\datasets'\n",
    "\n",
    "# 加载数据\n",
    "dataset = Dataset_Left_Right_MI(dataset_name,fs,fmin=freqband[0],fmax=freqband[1],tmin=0,tmax=4,path=datapath)\n",
    "sdata, slabel = [], []\n",
    "for i in range(1,4):    \n",
    "    data, label = dataset.get_data([i])\n",
    "    sdata.append(data)\n",
    "    slabel.append(label)\n",
    "    \n",
    "X, y_enc, domain =encode_datasets(sdata, slabel)\n",
    "print(X.shape, y_enc.shape, len(domain))\n",
    "print(domain)\n",
    "\n",
    "# 设置缓存目录\n",
    "cachedir = '../my_cache_directory'\n",
    "memory = Memory(cachedir, verbose=0)\n",
    "\n",
    "# 实例化模型\n",
    "preprocess = Pre_Processing(fs_new=160, fs_old=250, \n",
    "                       n_channels=np.arange(0, 28), \n",
    "                       start_time=0.5, end_time=3.5,\n",
    "                       lowcut=None, highcut=None, )\n",
    "Model = TL_Classifier(dpa_method='EA', \n",
    "                      fee_method='CSP', \n",
    "                      fes_method='MIC-K', \n",
    "                      clf_method='SVM',\n",
    "                      pre_est=preprocess.process,\n",
    "                      memory=memory,\n",
    "                      target_domain=domain[0],\n",
    "                      )\n",
    "\n",
    "# 交叉验证\n",
    "cv = RepeatedStratifiedKFold(n_splits=5, n_repeats=5, random_state=42)\n",
    "tl_cv = TLSplitter(target_domain=domain[0], cv=cv)\n",
    "\n"
   ]
  },
  {
   "cell_type": "code",
   "execution_count": 4,
   "metadata": {},
   "outputs": [
    {
     "name": "stdout",
     "output_type": "stream",
     "text": [
      "Score: 0.79\n",
      "Score: 0.77\n",
      "Score: 0.90\n",
      "Score: 0.96\n",
      "Score: 0.90\n",
      "Score: 0.90\n",
      "Score: 0.73\n",
      "Score: 0.96\n",
      "Score: 0.94\n",
      "Score: 0.77\n",
      "Score: 0.92\n",
      "Score: 0.88\n",
      "Score: 0.81\n",
      "Score: 0.88\n",
      "Score: 0.90\n",
      "Score: 0.77\n",
      "Score: 0.85\n",
      "Score: 0.94\n",
      "Score: 0.90\n",
      "Score: 0.83\n",
      "Score: 0.92\n",
      "Score: 0.92\n",
      "Score: 0.88\n",
      "Score: 0.85\n",
      "Score: 0.85\n",
      "Accuracy: 0.87 (+/- 0.06)\n"
     ]
    }
   ],
   "source": [
    "acc = []\n",
    "for train, test in tl_cv.split(X, y_enc):\n",
    "    X_train, y_train = X[train], y_enc[train]\n",
    "    X_test, y_test = X[test], y_enc[test]\n",
    "    Model.fit(X_train, y_train)\n",
    "    score = Model.score(X_test, y_test)\n",
    "    acc.append(score)\n",
    "    print(\"Score: %0.2f\" % score)\n",
    "print(\"Accuracy: %0.2f (+/- %0.2f)\" % (np.mean(acc), np.std(acc)))"
   ]
  },
  {
   "cell_type": "code",
   "execution_count": 7,
   "metadata": {},
   "outputs": [
    {
     "name": "stdout",
     "output_type": "stream",
     "text": [
      "Accuracy: 0.87 (+/- 0.06)\n"
     ]
    }
   ],
   "source": [
    "scores = cross_val_score(Model, X, y_enc, cv=tl_cv, n_jobs=15)\n",
    "print(\"Accuracy: %0.2f (+/- %0.2f)\" % (scores.mean(), scores.std()))"
   ]
  }
 ],
 "metadata": {
  "language_info": {
   "name": "python"
  }
 },
 "nbformat": 4,
 "nbformat_minor": 2
}
