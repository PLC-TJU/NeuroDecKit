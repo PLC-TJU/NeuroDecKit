{
 "cells": [
  {
   "cell_type": "markdown",
   "metadata": {},
   "source": [
    "## 1. 所有导联的通道数、时间长度、频率范围的组合"
   ]
  },
  {
   "cell_type": "code",
   "execution_count": null,
   "metadata": {},
   "outputs": [],
   "source": [
    "## 所有导联的通道数、时间长度、频率范围的组合\n",
    "\n",
    "import itertools\n",
    "import numpy as np  \n",
    "\n",
    "# 设置预处理的参数优化范围\n",
    "chanset = [np.arange(16, 59)]\n",
    "timeset = [[0,1.5],[0.5,1.5],[0.5,2.5],[0.5,3.5]]\n",
    "freqset = [[8, 30],[4, 40],[1, 8],[8, 26],[26, 40]]\n",
    "\n",
    "run_para = list(itertools.product(chanset, timeset, freqset))\n",
    "print(len(run_para))"
   ]
  },
  {
   "cell_type": "markdown",
   "metadata": {},
   "source": [
    "## 2. 所有通道选择（plus）组合"
   ]
  },
  {
   "cell_type": "code",
   "execution_count": null,
   "metadata": {},
   "outputs": [],
   "source": [
    "## 所有通道选择（plus）组合\n",
    "\n",
    "import itertools\n",
    "\n",
    "chseset = ['csp-cs', 'riemann-cs', 'rsf', 'cspf']\n",
    "neleset = [12, 24]\n",
    "run_chse1 = list(itertools.product(chseset, neleset))\n",
    "\n",
    "run_chse0 = list(itertools.product([None],[0]))\n",
    "\n",
    "run_chse = run_chse0 + run_chse1\n",
    "print(len(run_chse))\n"
   ]
  },
  {
   "cell_type": "markdown",
   "metadata": {},
   "source": [
    "## 3. 所有算法组合"
   ]
  },
  {
   "cell_type": "code",
   "execution_count": null,
   "metadata": {},
   "outputs": [],
   "source": [
    "## 所有算法组合\n",
    "\n",
    "import itertools\n",
    "import pandas as pd\n",
    "\n",
    "modeset = ['TL']\n",
    "df = pd.read_csv('transfer_learning/algorithms_select_TL_2.csv')\n",
    "alg_id = df['Algorithm_ID'].unique()\n",
    "alg_name = df['Algorithms'].unique()\n",
    "\n",
    "algset_TL = []\n",
    "for i in range(len(alg_id)):\n",
    "    algset_TL.append([alg_name[i], eval(alg_id[i])])\n",
    "print(len(algset_TL))  \n",
    "\n",
    "run_TL =  list(itertools.product(modeset, algset_TL)) \n",
    "print(len(run_TL))\n",
    "    \n",
    "modeset = ['CF']\n",
    "df = pd.read_csv('transfer_learning/algorithms_select_CF_2.csv')\n",
    "alg_id = df['Algorithm_ID'].unique()\n",
    "alg_name = df['Algorithms'].unique()\n",
    "\n",
    "algset_CF = []\n",
    "for i in range(len(alg_id)):\n",
    "    algset_CF.append([alg_name[i], eval(alg_id[i])])\n",
    "print(len(algset_CF))  \n",
    "\n",
    "run_CF =  list(itertools.product(modeset, algset_CF)) \n",
    "print(len(run_CF))\n",
    "\n",
    "run_mode_alg = run_TL + run_CF\n",
    "print(len(run_mode_alg))\n"
   ]
  },
  {
   "cell_type": "markdown",
   "metadata": {},
   "source": [
    "## 4. 参数范围汇总"
   ]
  },
  {
   "cell_type": "code",
   "execution_count": null,
   "metadata": {},
   "outputs": [],
   "source": [
    "import itertools\n",
    "\n",
    "paraset = list(itertools.product(run_para, run_chse, run_mode_alg))\n",
    "print(len(paraset))\n",
    "\n",
    "Parasets = []\n",
    "for i in range(len(paraset)):\n",
    "    channels =paraset[i][0][0]\n",
    "    start_time = paraset[i][0][1][0]\n",
    "    end_time = paraset[i][0][1][1]\n",
    "    lowcut = paraset[i][0][2][0]\n",
    "    highcut = paraset[i][0][2][1]\n",
    "    cs_method = paraset[i][1][0]\n",
    "    nelec = paraset[i][1][1]\n",
    "    tl_mode = paraset[i][2][0]\n",
    "    algorithm = paraset[i][2][1][0]\n",
    "    algorithm_id = paraset[i][2][1][1]\n",
    "    \n",
    "    if tl_mode == 'TL':\n",
    "        aug_method = None\n",
    "    elif tl_mode == 'CF':\n",
    "        tl_mode = 'Calibration-free'\n",
    "        aug_method = 'time_window'\n",
    "    \n",
    "    Parasets.append({\n",
    "        'index':i,\n",
    "        'channels':channels.tolist(),\n",
    "        'start_time':start_time,\n",
    "        'end_time':end_time,\n",
    "        'lowcut':lowcut,\n",
    "        'highcut':highcut,\n",
    "        'cs_method':cs_method,\n",
    "        'nelec':nelec,\n",
    "        'tl_mode':tl_mode,\n",
    "        'algorithm':algorithm,\n",
    "        'algorithm_id':algorithm_id,\n",
    "        'aug_method':aug_method,\n",
    "        })\n"
   ]
  },
  {
   "cell_type": "code",
   "execution_count": 9,
   "metadata": {},
   "outputs": [],
   "source": [
    "# 保存结果\n",
    "import pickle\n",
    "\n",
    "with open(f'Parasets{len(Parasets)}.pkl', 'wb') as f:\n",
    "    pickle.dump(Parasets, f)"
   ]
  },
  {
   "cell_type": "code",
   "execution_count": 10,
   "metadata": {},
   "outputs": [
    {
     "name": "stdout",
     "output_type": "stream",
     "text": [
      "82980\n"
     ]
    }
   ],
   "source": [
    "# 读取结果\n",
    "import pickle\n",
    "\n",
    "with open(f'Parasets{len(Parasets)}.pkl', 'rb') as f:   \n",
    "    Parasets = pickle.load(f)\n",
    "\n",
    "print(len(Parasets))\n",
    "\n",
    "a=0"
   ]
  }
 ],
 "metadata": {
  "kernelspec": {
   "display_name": "Python 3",
   "language": "python",
   "name": "python3"
  },
  "language_info": {
   "codemirror_mode": {
    "name": "ipython",
    "version": 3
   },
   "file_extension": ".py",
   "mimetype": "text/x-python",
   "name": "python",
   "nbconvert_exporter": "python",
   "pygments_lexer": "ipython3",
   "version": "3.10.11"
  }
 },
 "nbformat": 4,
 "nbformat_minor": 2
}
