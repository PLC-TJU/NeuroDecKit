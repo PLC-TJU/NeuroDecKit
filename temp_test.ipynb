{
 "cells": [
  {
   "cell_type": "code",
   "execution_count": null,
   "metadata": {},
   "outputs": [],
   "source": [
    "import numpy as np\n",
    "from typing import List, Union, Optional\n",
    "from numpy import ndarray\n",
    "\n",
    "def combine_datasets(Xt: ndarray, yt: ndarray, Xs: Optional[Union[ndarray, List[ndarray]]] = None, ys: \n",
    "    Optional[Union[ndarray, List[ndarray]]] = None) -> (List[ndarray], List[ndarray]): # type: ignore\n",
    "    \"\"\"\n",
    "    结合来自不同来源的数据集。\n",
    "\n",
    "    参数:\n",
    "    Xt (ndarray): 目标域的数据集，形状为 (样本数, 通道数, 采样点数)。\n",
    "    yt (ndarray): 目标域的标签向量，长度为样本数。\n",
    "    Xs (Optional[Union[ndarray, List[ndarray]]], 默认为None): 源域的数据集，可以是以下之一:\n",
    "        - None: 不使用源域数据。\n",
    "        - 3维ndarray: 单个源域的数据集，形状为 (样本数, 通道数, 采样点数)。\n",
    "        - 列表: 包含多个源域数据集的列表，每个元素都是一个3维ndarray。\n",
    "        - 4维ndarray: 包含多个源域数据集的4维数组，形状为 (数据集数量, 样本数, 通道数, 采样点数)。\n",
    "    ys (Optional[Union[ndarray, List[ndarray]]], 默认为None): 源域的标签集，可以是以下之一:\n",
    "        - None: 不使用源域标签。\n",
    "        - 1维ndarray: 单个源域的标签向量，长度为样本数。\n",
    "        - 列表: 包含多个源域标签向量的列表，每个元素都是一个1维ndarray。\n",
    "\n",
    "    返回:\n",
    "    (List[ndarray], List[ndarray]): 两个列表，第一个是数据集列表，第二个是对应的标签列表。每个列表的元素数量等于“数据集来源数”。\n",
    "\n",
    "    示例:\n",
    "    >>> Xt = np.random.rand(10, 5, 100)  # 目标域数据集\n",
    "    >>> yt = np.random.randint(0, 2, 10)  # 目标域标签\n",
    "    >>> Xs = [np.random.rand(8, 5, 100), np.random.rand(12, 5, 100)]  # 源域数据集列表\n",
    "    >>> ys = [np.random.randint(0, 2, 8), np.random.randint(0, 2, 12)]  # 源域标签列表\n",
    "    >>> X_combined, Y_combined = combine_datasets(Xt, yt, Xs, ys)\n",
    "    \"\"\"\n",
    "\n",
    "    X_combined = [Xt]  # 初始化数据集列表，首先添加目标域数据集\n",
    "    Y_combined = [yt]  # 初始化标签列表，首先添加目标域标签\n",
    "\n",
    "    # 检查Xs是否为None\n",
    "    if Xs is None:\n",
    "        return X_combined, Y_combined\n",
    "\n",
    "    # 检查Xs是否为列表\n",
    "    if isinstance(Xs, list):\n",
    "        # 确保ys也是列表且长度与Xs相同\n",
    "        if not isinstance(ys, list) or len(ys) != len(Xs):\n",
    "            raise ValueError(\"ys must be a list with the same length as Xs\")\n",
    "        X_combined.extend(Xs)\n",
    "        Y_combined.extend(ys)\n",
    "\n",
    "    # 检查Xs是否为4维数组\n",
    "    elif Xs.ndim == 4:\n",
    "        # 将4维数组拆分为多个3维数组并添加到列表中\n",
    "        for i in range(Xs.shape[0]):\n",
    "            X_combined.append(Xs[i])\n",
    "            Y_combined.append(ys[i])\n",
    "\n",
    "    # 检查Xs是否为3维数组\n",
    "    elif Xs.ndim == 3:\n",
    "        X_combined.append(Xs)\n",
    "        Y_combined.append(ys)\n",
    "\n",
    "    # 其他情况，抛出异常\n",
    "    else:\n",
    "        raise ValueError(\"Xs must be either a 3D or 4D ndarray or a list of 3D ndarrays\")\n",
    "\n",
    "    return X_combined, Y_combined\n"
   ]
  },
  {
   "cell_type": "code",
   "execution_count": null,
   "metadata": {},
   "outputs": [],
   "source": [
    "# 示例使用\n",
    "Xt = np.random.rand(10, 5, 100)  # 假设有10个样本，5个通道，每个通道100个采样点\n",
    "yt = np.random.randint(0, 2, 10)  # 假设有10个样本的二分类标签\n",
    "\n",
    "# 假设Xs是一个列表，包含来自不同源域的数据集\n",
    "Xs = [np.random.rand(8, 5, 100), np.random.rand(12, 5, 100)]  # 每个源域的样本数可能不同\n",
    "ys = [np.random.randint(0, 2, 8), np.random.randint(0, 2, 12)]  # 每个源域的标签\n",
    "\n",
    "X_combined, Y_combined = combine_datasets(Xt, yt, Xs, ys)\n",
    "\n",
    "a=0"
   ]
  },
  {
   "cell_type": "code",
   "execution_count": null,
   "metadata": {},
   "outputs": [],
   "source": [
    "\n"
   ]
  }
 ],
 "metadata": {
  "kernelspec": {
   "display_name": "Python 3",
   "language": "python",
   "name": "python3"
  },
  "language_info": {
   "codemirror_mode": {
    "name": "ipython",
    "version": 3
   },
   "file_extension": ".py",
   "mimetype": "text/x-python",
   "name": "python",
   "nbconvert_exporter": "python",
   "pygments_lexer": "ipython3",
   "version": "3.10.11"
  }
 },
 "nbformat": 4,
 "nbformat_minor": 2
}
